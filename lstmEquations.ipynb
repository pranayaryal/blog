{
 "cells": [
  {
   "cell_type": "markdown",
   "metadata": {},
   "source": [
    "### Equations for LSTM\n",
    "\n",
    "\n",
    "$\\tilde{c}^{\\langle t \\rangle}  = \\tanh(W_c[a^{\\langle t-1 \\rangle}, x^t] + b_c)$<br/>\n",
    "$\\Gamma_u = \\sigma(W_u[a^{\\langle t-1 \\rangle}, x^t] + b_u)$<b\n",
    "$\\Gamma_f = \\sigma(W_f[a^{\\langle t-1 \\rangle}, x^t] + b_f)$\n",
    "$\\Gamma_o = \\sigma(W_f[a^{\\langle t-1 \\rangle}, x^t] + b_o)$\n",
    "$c^{\\langle t \\rangle} & = \\Gamma_u  * \\tilde c^{\\langle t \\rangle} + \\Gamma_f * c^{\\langle t-1 \\rangle}$\n",
    "$a^{\\langle t \\rangle} & = \\Gamma_o * \\tanh c^{\\langle t-1 \\rangle}$\n",
    "\n",
    "    \n",
    "where $\\Gamma_u$ outputs 0 or 1 since it is a logistic function, <br\\> $\\Gamma_f$ is the forget gate, <br\\>and $\\Gamma_o$ is the output gate. <br\\>Since all the $\\Gamma$ gates are logistic functions they will return 0 or 1"
   ]
  },
  {
   "cell_type": "markdown",
   "metadata": {},
   "source": [
    "### Equations for Gated Recurrent Unit\n",
    "\n",
    "$\\tilde{c}^{\\langle t \\rangle}  = \\tanh(W_c[c^{\\langle t-1 \\rangle}, x^t] + b_c)$\n",
    "<br/>\n",
    "$\\Gamma_u  = \\sigma(W_u[c^{\\langle t-1 \\rangle}, x^t] + b_u)$<br/>\n",
    "$c^{\\langle t \\rangle}  = \\Gamma_u  * \\tilde{c}^{\\langle t \\rangle} + (1-\\Gamma_u) * {c}^{\\langle t-1 \\rangle}$\n",
    "\n",
    "\n",
    "    \n",
    "where $\\tilde c^{\\langle t \\rangle}$ is a candidate for replacing ${c}^t$\n",
    "and <br/> $\\Gamma_u$ is the gate which controls it. If the gate returns 0, the old value (${c}^{<t-1>}$) is passed to the current cell, if the gate returns 1, the current cell is updated with the new value ($\\tilde{c}^{<t>}$)"
   ]
  },
  {
   "cell_type": "code",
   "execution_count": null,
   "metadata": {},
   "outputs": [],
   "source": []
  }
 ],
 "metadata": {
  "kernelspec": {
   "display_name": "Python 2",
   "language": "python",
   "name": "python2"
  },
  "language_info": {
   "codemirror_mode": {
    "name": "ipython",
    "version": 2
   },
   "file_extension": ".py",
   "mimetype": "text/x-python",
   "name": "python",
   "nbconvert_exporter": "python",
   "pygments_lexer": "ipython2",
   "version": "2.7.12"
  }
 },
 "nbformat": 4,
 "nbformat_minor": 2
}
