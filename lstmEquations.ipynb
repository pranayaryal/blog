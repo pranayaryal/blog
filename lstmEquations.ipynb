{
 "cells": [
  {
   "cell_type": "code",
   "execution_count": 1,
   "metadata": {},
   "outputs": [],
   "source": [
    "import pypandoc"
   ]
  },
  {
   "cell_type": "markdown",
   "metadata": {},
   "source": [
    "### Equations for LSTM "
   ]
  },
  {
   "cell_type": "markdown",
   "metadata": {},
   "source": [
    "\\begin{align}\n",
    "\\tilde{c}^{<t>} & = \\tanh(W_c[a^{<t-1>}, x^t] + b_c) \\\\\n",
    "\\Gamma_u & = \\sigma(W_u[a^{<t-1>}, x^t] + b_u) \\\\\n",
    "\\Gamma_f & = \\sigma(W_f[a^{<t-1>}, x^t] + b_f) \\\\\n",
    "\\Gamma_o & = \\sigma(W_f[a^{<t-1>}, x^t] + b_o) \\\\\n",
    "\\ {c}^{<t>} & = \\Gamma_u  * \\tilde{c}^{<t>} + \\Gamma_f * {c}^{<t-1>} \\\\\n",
    "\\ {a}^{<t>} & = \\Gamma_o * \\tanh {c}^{<t-1>} \\\\\n",
    "\\end{align}\n",
    "    \n",
    "where $\\Gamma_u$ outputs 0 or 1 since it is a logistic function, <br\\> $\\Gamma_f$ is the forget gate, <br\\>and $\\Gamma_o$ is the output gate. <br\\>Since all the $\\Gamma$ gates are logistic functions they will return 0 or 1"
   ]
  },
  {
   "cell_type": "markdown",
   "metadata": {},
   "source": [
    "### Equations for Gated Recurrent Unit"
   ]
  },
  {
   "cell_type": "markdown",
   "metadata": {},
   "source": [
    "\\begin{align}\n",
    "\\tilde{c}^{<t>} & = \\tanh(W_c[c^{<t-1>}, x^t] + b_c) \\\\\n",
    "\\Gamma_u & = \\sigma(W_u[c^{<t-1>}, x^t] + b_u) \\\\\n",
    "\\ {c}^{<t>} & = \\Gamma_u  * \\tilde{c}^{<t>} + (1-\\Gamma_u) * {c}^{<t-1>} \\\\\n",
    "\\end{align}\n",
    "    \n",
    "where $\\tilde{c}^{<t>}$ is a candidate for replacing ${c}^t$\n",
    "and <br/> $\\Gamma_u$ is the gate which controls it. If the gate returns 0, the old value (${c}^{<t-1>}$) is passed to the current cell, if the gate returns 1, the current cell is updated with the new value ($\\tilde{c}^{<t>}$)"
   ]
  },
  {
   "cell_type": "markdown",
   "metadata": {},
   "source": []
  },
  {
   "cell_type": "code",
   "execution_count": null,
   "metadata": {},
   "outputs": [],
   "source": []
  }
 ],
 "metadata": {
  "kernelspec": {
   "display_name": "Python 2",
   "language": "python",
   "name": "python2"
  },
  "language_info": {
   "codemirror_mode": {
    "name": "ipython",
    "version": 2
   },
   "file_extension": ".py",
   "mimetype": "text/x-python",
   "name": "python",
   "nbconvert_exporter": "python",
   "pygments_lexer": "ipython2",
   "version": "2.7.12"
  }
 },
 "nbformat": 4,
 "nbformat_minor": 2
}
